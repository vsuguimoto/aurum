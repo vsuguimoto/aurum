{
 "cells": [
  {
   "cell_type": "code",
   "execution_count": 1,
   "metadata": {},
   "outputs": [],
   "source": [
    "import os\n",
    "import sys\n",
    "\n",
    "module_path = os.path.abspath(os.path.join('..'))\n",
    "\n",
    "if module_path not in sys.path:\n",
    "    sys.path.append(module_path)\n",
    "\n",
    "import aurum\n",
    "import pandas as pd\n",
    "import numpy as np"
   ]
  },
  {
   "cell_type": "code",
   "execution_count": 2,
   "metadata": {},
   "outputs": [
    {
     "name": "stderr",
     "output_type": "stream",
     "text": [
      "/home/sors/Documents/repos/aurum/aurum/src/features/ft.py:84: SettingWithCopyWarning: \n",
      "A value is trying to be set on a copy of a slice from a DataFrame.\n",
      "Try using .loc[row_indexer,col_indexer] = value instead\n",
      "\n",
      "See the caveats in the documentation: https://pandas.pydata.org/pandas-docs/stable/user_guide/indexing.html#returning-a-view-versus-a-copy\n",
      "  df_copy.ta.strategy(base_indicators)\n",
      "/home/sors/Documents/repos/aurum/aurum/src/features/ft.py:84: SettingWithCopyWarning: \n",
      "A value is trying to be set on a copy of a slice from a DataFrame.\n",
      "Try using .loc[row_indexer,col_indexer] = value instead\n",
      "\n",
      "See the caveats in the documentation: https://pandas.pydata.org/pandas-docs/stable/user_guide/indexing.html#returning-a-view-versus-a-copy\n",
      "  df_copy.ta.strategy(base_indicators)\n",
      "/home/sors/Documents/repos/aurum/aurum/src/features/ft.py:84: SettingWithCopyWarning: \n",
      "A value is trying to be set on a copy of a slice from a DataFrame.\n",
      "Try using .loc[row_indexer,col_indexer] = value instead\n",
      "\n",
      "See the caveats in the documentation: https://pandas.pydata.org/pandas-docs/stable/user_guide/indexing.html#returning-a-view-versus-a-copy\n",
      "  df_copy.ta.strategy(base_indicators)\n",
      "/home/sors/Documents/repos/aurum/aurum/src/features/ft.py:84: SettingWithCopyWarning: \n",
      "A value is trying to be set on a copy of a slice from a DataFrame.\n",
      "Try using .loc[row_indexer,col_indexer] = value instead\n",
      "\n",
      "See the caveats in the documentation: https://pandas.pydata.org/pandas-docs/stable/user_guide/indexing.html#returning-a-view-versus-a-copy\n",
      "  df_copy.ta.strategy(base_indicators)\n",
      "/home/sors/Documents/repos/aurum/aurum/src/features/ft.py:84: SettingWithCopyWarning: \n",
      "A value is trying to be set on a copy of a slice from a DataFrame.\n",
      "Try using .loc[row_indexer,col_indexer] = value instead\n",
      "\n",
      "See the caveats in the documentation: https://pandas.pydata.org/pandas-docs/stable/user_guide/indexing.html#returning-a-view-versus-a-copy\n",
      "  df_copy.ta.strategy(base_indicators)\n",
      "/home/sors/Documents/repos/aurum/aurum/src/features/ft.py:84: SettingWithCopyWarning: \n",
      "A value is trying to be set on a copy of a slice from a DataFrame.\n",
      "Try using .loc[row_indexer,col_indexer] = value instead\n",
      "\n",
      "See the caveats in the documentation: https://pandas.pydata.org/pandas-docs/stable/user_guide/indexing.html#returning-a-view-versus-a-copy\n",
      "  df_copy.ta.strategy(base_indicators)\n",
      "/home/sors/Documents/repos/aurum/aurum/src/features/ft.py:84: SettingWithCopyWarning: \n",
      "A value is trying to be set on a copy of a slice from a DataFrame.\n",
      "Try using .loc[row_indexer,col_indexer] = value instead\n",
      "\n",
      "See the caveats in the documentation: https://pandas.pydata.org/pandas-docs/stable/user_guide/indexing.html#returning-a-view-versus-a-copy\n",
      "  df_copy.ta.strategy(base_indicators)\n",
      "/home/sors/Documents/repos/aurum/aurum/src/features/ft.py:84: SettingWithCopyWarning: \n",
      "A value is trying to be set on a copy of a slice from a DataFrame.\n",
      "Try using .loc[row_indexer,col_indexer] = value instead\n",
      "\n",
      "See the caveats in the documentation: https://pandas.pydata.org/pandas-docs/stable/user_guide/indexing.html#returning-a-view-versus-a-copy\n",
      "  df_copy.ta.strategy(base_indicators)\n",
      "/home/sors/Documents/repos/aurum/aurum/src/features/ft.py:84: SettingWithCopyWarning: \n",
      "A value is trying to be set on a copy of a slice from a DataFrame.\n",
      "Try using .loc[row_indexer,col_indexer] = value instead\n",
      "\n",
      "See the caveats in the documentation: https://pandas.pydata.org/pandas-docs/stable/user_guide/indexing.html#returning-a-view-versus-a-copy\n",
      "  df_copy.ta.strategy(base_indicators)\n",
      "/home/sors/Documents/repos/aurum/aurum/src/features/ft.py:84: SettingWithCopyWarning: \n",
      "A value is trying to be set on a copy of a slice from a DataFrame.\n",
      "Try using .loc[row_indexer,col_indexer] = value instead\n",
      "\n",
      "See the caveats in the documentation: https://pandas.pydata.org/pandas-docs/stable/user_guide/indexing.html#returning-a-view-versus-a-copy\n",
      "  df_copy.ta.strategy(base_indicators)\n",
      "/home/sors/Documents/repos/aurum/aurum/src/features/ft.py:84: SettingWithCopyWarning: \n",
      "A value is trying to be set on a copy of a slice from a DataFrame.\n",
      "Try using .loc[row_indexer,col_indexer] = value instead\n",
      "\n",
      "See the caveats in the documentation: https://pandas.pydata.org/pandas-docs/stable/user_guide/indexing.html#returning-a-view-versus-a-copy\n",
      "  df_copy.ta.strategy(base_indicators)\n",
      "/home/sors/Documents/repos/aurum/aurum/src/features/ft.py:84: SettingWithCopyWarning: \n",
      "A value is trying to be set on a copy of a slice from a DataFrame.\n",
      "Try using .loc[row_indexer,col_indexer] = value instead\n",
      "\n",
      "See the caveats in the documentation: https://pandas.pydata.org/pandas-docs/stable/user_guide/indexing.html#returning-a-view-versus-a-copy\n",
      "  df_copy.ta.strategy(base_indicators)\n",
      "/home/sors/Documents/repos/aurum/aurum/src/features/ft.py:84: SettingWithCopyWarning: \n",
      "A value is trying to be set on a copy of a slice from a DataFrame.\n",
      "Try using .loc[row_indexer,col_indexer] = value instead\n",
      "\n",
      "See the caveats in the documentation: https://pandas.pydata.org/pandas-docs/stable/user_guide/indexing.html#returning-a-view-versus-a-copy\n",
      "  df_copy.ta.strategy(base_indicators)\n",
      "/home/sors/Documents/repos/aurum/aurum/src/features/ft.py:84: SettingWithCopyWarning: \n",
      "A value is trying to be set on a copy of a slice from a DataFrame.\n",
      "Try using .loc[row_indexer,col_indexer] = value instead\n",
      "\n",
      "See the caveats in the documentation: https://pandas.pydata.org/pandas-docs/stable/user_guide/indexing.html#returning-a-view-versus-a-copy\n",
      "  df_copy.ta.strategy(base_indicators)\n",
      "/home/sors/Documents/repos/aurum/aurum/src/features/ft.py:84: SettingWithCopyWarning: \n",
      "A value is trying to be set on a copy of a slice from a DataFrame.\n",
      "Try using .loc[row_indexer,col_indexer] = value instead\n",
      "\n",
      "See the caveats in the documentation: https://pandas.pydata.org/pandas-docs/stable/user_guide/indexing.html#returning-a-view-versus-a-copy\n",
      "  df_copy.ta.strategy(base_indicators)\n",
      "/home/sors/Documents/repos/aurum/aurum/src/features/ft.py:84: SettingWithCopyWarning: \n",
      "A value is trying to be set on a copy of a slice from a DataFrame.\n",
      "Try using .loc[row_indexer,col_indexer] = value instead\n",
      "\n",
      "See the caveats in the documentation: https://pandas.pydata.org/pandas-docs/stable/user_guide/indexing.html#returning-a-view-versus-a-copy\n",
      "  df_copy.ta.strategy(base_indicators)\n",
      "/home/sors/Documents/repos/aurum/aurum/src/features/ft.py:84: SettingWithCopyWarning: \n",
      "A value is trying to be set on a copy of a slice from a DataFrame.\n",
      "Try using .loc[row_indexer,col_indexer] = value instead\n",
      "\n",
      "See the caveats in the documentation: https://pandas.pydata.org/pandas-docs/stable/user_guide/indexing.html#returning-a-view-versus-a-copy\n",
      "  df_copy.ta.strategy(base_indicators)\n",
      "/home/sors/Documents/repos/aurum/aurum/src/features/ft.py:85: SettingWithCopyWarning: \n",
      "A value is trying to be set on a copy of a slice from a DataFrame.\n",
      "Try using .loc[row_indexer,col_indexer] = value instead\n",
      "\n",
      "See the caveats in the documentation: https://pandas.pydata.org/pandas-docs/stable/user_guide/indexing.html#returning-a-view-versus-a-copy\n",
      "  df_copy.loc[:, 'OBV_ROC_14'] = ((df_copy.OBV - df_copy.OBV.rolling(14).mean())/ df_copy.OBV.rolling(14).mean())\n"
     ]
    }
   ],
   "source": [
    "df = aurum.data.get_ohlcv('PETR4.SA')\n",
    "df = aurum.ft.technical_indicators(df)"
   ]
  },
  {
   "cell_type": "code",
   "execution_count": 3,
   "metadata": {},
   "outputs": [
    {
     "data": {
      "text/plain": [
       "Index(['Date', 'Open', 'High', 'Low', 'Close', 'Volume', 'Dividends',\n",
       "       'Stock Splits', 'LEAK_Retorno', 'Alvo', 'RSI_14', 'STOCHk_14_3_3',\n",
       "       'STOCHd_14_3_3', 'ROC_2', 'ROC_5', 'ROC_10', 'EMA_9', 'EMA_21',\n",
       "       'BBL_10_2.0', 'BBM_10_2.0', 'BBU_10_2.0', 'BBB_10_2.0', 'BBP_10_2.0',\n",
       "       'SLOPE_3', 'ATRr_5', 'WILLR_14', 'OBV', 'OBV_ROC_14', 'EMA_BUY_CROSS',\n",
       "       'EMA_SELL_CROSS', 'EMA_9_DISTANCE', 'EMA_21_DISTANCE',\n",
       "       'BBAND_FechouFora_Lower', 'BBAND_FechouFora_Upper'],\n",
       "      dtype='object')"
      ]
     },
     "execution_count": 3,
     "metadata": {},
     "output_type": "execute_result"
    }
   ],
   "source": [
    "df.columns"
   ]
  },
  {
   "cell_type": "code",
   "execution_count": 4,
   "metadata": {},
   "outputs": [],
   "source": [
    "df = aurum.ft.traduzir_nome_colunas(df)"
   ]
  },
  {
   "cell_type": "code",
   "execution_count": 5,
   "metadata": {},
   "outputs": [
    {
     "data": {
      "text/plain": [
       "Index(['Date', 'Open', 'High', 'Low', 'Close', 'Volume', 'Dividends',\n",
       "       'Stock Splits', 'LEAK_Retorno', 'Alvo',\n",
       "       'Indice de Força Relativa de 14 períodos',\n",
       "       'Oscilador Estocástico rápido 14-3-3', 'STOCHd_14_3_3', 'ROC_2',\n",
       "       'Rate of Change de 5 dias', 'ROC_10', 'EMA_9', 'EMA_21', 'BBL_10_2.0',\n",
       "       'BBM_10_2.0', 'BBU_10_2.0', 'BBB_10_2.0', 'BBP_10_2.0', 'SLOPE_3',\n",
       "       'ATRr_5', 'WILLR_14', 'OBV', 'OBV_ROC_14', 'EMA_BUY_CROSS',\n",
       "       'EMA_SELL_CROSS', 'Distância da Média Móvel Exponencial de 9 períodos',\n",
       "       'Distância da Média Móvel Exponencial de 21 períodos',\n",
       "       'Preço fechou fora da Banda de Bollinger Inferior',\n",
       "       'Preço fechou fora da Banda de Bollinger Superior'],\n",
       "      dtype='object')"
      ]
     },
     "execution_count": 5,
     "metadata": {},
     "output_type": "execute_result"
    }
   ],
   "source": [
    "df.columns"
   ]
  },
  {
   "cell_type": "code",
   "execution_count": null,
   "metadata": {},
   "outputs": [],
   "source": []
  }
 ],
 "metadata": {
  "kernelspec": {
   "display_name": "Python 3.10.4 ('data-science')",
   "language": "python",
   "name": "python3"
  },
  "language_info": {
   "codemirror_mode": {
    "name": "ipython",
    "version": 3
   },
   "file_extension": ".py",
   "mimetype": "text/x-python",
   "name": "python",
   "nbconvert_exporter": "python",
   "pygments_lexer": "ipython3",
   "version": "3.10.4"
  },
  "orig_nbformat": 4,
  "vscode": {
   "interpreter": {
    "hash": "5a3fdc51dd0220cb0ffaeef4cfce30f1d90d7df11bbbf02159283ad8e988af8c"
   }
  }
 },
 "nbformat": 4,
 "nbformat_minor": 2
}
