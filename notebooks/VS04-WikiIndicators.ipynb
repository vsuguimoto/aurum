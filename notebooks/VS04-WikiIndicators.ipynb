{
 "cells": [
  {
   "cell_type": "markdown",
   "metadata": {},
   "source": [
    "**Validando os indicadores da Wikipedia**\n",
    "\n",
    "**Referência:**\n",
    "- Bin Weng, Mohamed A. Ahmed, Fadel M. Megahed, Stock Market One-Day\n",
    "Ahead Movement Prediction Using Disparate Data Sources, Expert Systems With Applications (2017),\n",
    "doi: 10.1016/j.eswa.2017.02.041\n",
    "\n",
    "**Objetivo:**  \n",
    "- Avaliar a capacidade de predição dos indicadores derivados das visualizações da wikipedia do ativos em questão.\n",
    "\n",
    "**Metodologia:**\n",
    "- Verificaremos se o aumento de visualizações em uma página da wikipedia possui uma correlação com o aumento da volatilidade do ativo.\n",
    "- Consideraremos um ativo com volatilidade alta, quando o retorno for superior a média +- 1 desvio padrão.\n",
    "\n",
    "\n",
    "**Resultados:**\n"
   ]
  },
  {
   "cell_type": "code",
   "execution_count": 3,
   "metadata": {},
   "outputs": [],
   "source": [
    "import os\n",
    "import sys\n",
    "\n",
    "module_path = os.path.abspath(os.path.join('..'))\n",
    "\n",
    "if module_path not in sys.path:\n",
    "    sys.path.append(module_path)\n",
    "\n",
    "import aurum\n",
    "import pandas as pd\n",
    "import numpy as np"
   ]
  },
  {
   "cell_type": "code",
   "execution_count": 14,
   "metadata": {},
   "outputs": [],
   "source": [
    "df = aurum.data.get_ohlcv('PETR4.SA', DIST_ALVO=1)\n",
    "df = aurum.ft.wiki_indicators('Petrobras', df)\n",
    "\n",
    "df = df.dropna()"
   ]
  },
  {
   "cell_type": "code",
   "execution_count": 21,
   "metadata": {},
   "outputs": [],
   "source": [
    "VOL_UPPER = df.LEAK_Retorno.mean() + df.LEAK_Retorno.std()\n",
    "VOL_LOWER = df.LEAK_Retorno.mean() - df.LEAK_Retorno.std()\n",
    "\n",
    "df['VOLATIL'] = [1 if ((x > VOL_UPPER )| (x < VOL_LOWER)) else 0 for x in df.LEAK_Retorno]"
   ]
  },
  {
   "cell_type": "code",
   "execution_count": 44,
   "metadata": {},
   "outputs": [
    {
     "data": {
      "text/html": [
       "<div>\n",
       "<style scoped>\n",
       "    .dataframe tbody tr th:only-of-type {\n",
       "        vertical-align: middle;\n",
       "    }\n",
       "\n",
       "    .dataframe tbody tr th {\n",
       "        vertical-align: top;\n",
       "    }\n",
       "\n",
       "    .dataframe thead th {\n",
       "        text-align: right;\n",
       "    }\n",
       "</style>\n",
       "<table border=\"1\" class=\"dataframe\">\n",
       "  <thead>\n",
       "    <tr style=\"text-align: right;\">\n",
       "      <th></th>\n",
       "      <th>WIKI_SMA_5_Distance</th>\n",
       "      <th>WIKI_daily_views</th>\n",
       "      <th>WIKI_Yesterday_diff</th>\n",
       "      <th>WIKI_ROC_5</th>\n",
       "    </tr>\n",
       "    <tr>\n",
       "      <th>VOLATIL</th>\n",
       "      <th></th>\n",
       "      <th></th>\n",
       "      <th></th>\n",
       "      <th></th>\n",
       "    </tr>\n",
       "  </thead>\n",
       "  <tbody>\n",
       "    <tr>\n",
       "      <th>0</th>\n",
       "      <td>-3.131712</td>\n",
       "      <td>544.784846</td>\n",
       "      <td>3.797007</td>\n",
       "      <td>100.029681</td>\n",
       "    </tr>\n",
       "    <tr>\n",
       "      <th>1</th>\n",
       "      <td>14.548529</td>\n",
       "      <td>680.933824</td>\n",
       "      <td>-16.209559</td>\n",
       "      <td>103.111899</td>\n",
       "    </tr>\n",
       "  </tbody>\n",
       "</table>\n",
       "</div>"
      ],
      "text/plain": [
       "         WIKI_SMA_5_Distance  WIKI_daily_views  WIKI_Yesterday_diff  \\\n",
       "VOLATIL                                                               \n",
       "0                  -3.131712        544.784846             3.797007   \n",
       "1                  14.548529        680.933824           -16.209559   \n",
       "\n",
       "         WIKI_ROC_5  \n",
       "VOLATIL              \n",
       "0        100.029681  \n",
       "1        103.111899  "
      ]
     },
     "execution_count": 44,
     "metadata": {},
     "output_type": "execute_result"
    }
   ],
   "source": [
    "df.groupby('VOLATIL').agg({\n",
    "    'WIKI_SMA_5_Distance':'mean',\n",
    "    'WIKI_daily_views':'mean',\n",
    "    'WIKI_Yesterday_diff':'mean',\n",
    "    'WIKI_ROC_5':'mean'\n",
    "    })"
   ]
  }
 ],
 "metadata": {
  "kernelspec": {
   "display_name": "Python 3.10.4 ('data-science')",
   "language": "python",
   "name": "python3"
  },
  "language_info": {
   "codemirror_mode": {
    "name": "ipython",
    "version": 3
   },
   "file_extension": ".py",
   "mimetype": "text/x-python",
   "name": "python",
   "nbconvert_exporter": "python",
   "pygments_lexer": "ipython3",
   "version": "3.10.6"
  },
  "orig_nbformat": 4,
  "vscode": {
   "interpreter": {
    "hash": "5a3fdc51dd0220cb0ffaeef4cfce30f1d90d7df11bbbf02159283ad8e988af8c"
   }
  }
 },
 "nbformat": 4,
 "nbformat_minor": 2
}
